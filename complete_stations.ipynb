{
 "cells": [
  {
   "cell_type": "code",
   "execution_count": 1,
   "metadata": {},
   "outputs": [
    {
     "name": "stdout",
     "output_type": "stream",
     "text": [
      "Excel file saved as Charging_Stations.xlsx\n"
     ]
    }
   ],
   "source": [
    "import pandas as pd\n",
    "\n",
    "# Data for all 55 stations\n",
    "data = [\n",
    "    [1, \"AC socket L1\", \"Kabisa Charging Station\", \"Operational\", \"FJRR+H78, Ruhengeri Road, Rwanda\", -1.50826276, 29.64067227, \"Northern Province\", \"Ruhengeri (Musanze)\", \"Sat-Wed\", 52000000, 484218.00, \"In-Use\"],\n",
    "    [2, \"AC socket L1\", \"Rubavu SP Station\", \"Operational\", \"77W6+QXW, Gisenyi, Rwanda\", -1.70280874, 29.26242091, \"Western Province\", \"Rubavu (Gisenyi)\", \"Mon-Sun\", 43000000, 400682.00, \"In-Use\"],\n",
    "    [3, \"AC charger L2\", \"Kinigi - Dian Fossy Campus\", \"Operational\", \"HH97+MG, Kinigi, Rwanda\", -1.43060871, 29.56380177, \"Northern Province\", \"Kinigi (Musanze)\", \"Sat-Wed\", 29700000, 276985.00, \"In-Use\"],\n",
    "    [4, \"AC charger L2\", \"Kayonza - IMIGONGO ART CENTER and Cafe\", \"Operational\", \"4F4C+C4J, Kayonza, Rwanda\", -1.89359618, 30.47025559, \"Eastern Province\", \"Kayonza\", \"Sat-Wed\", 24200000, 225784.00, \"Available\"],\n",
    "    [5, \"AC charger L2\", \"Kabisa EV Garage\", \"Operational\", \"Kabisa EV Garage, Nyakabungo, Rwanda\", -1.88167631, 30.08904600, \"Kigali City\", \"Nyakabungo\", \"Sat-Wed\", 45300000, 421418.00, \"In-Use\"],\n",
    "    [6, \"DC Charger L3\", \"SP Rugunga\", \"Operational\", \"23RC+GFQ, KK 2 Avenue, Kigali, Rwanda\", -1.96283246, 30.07018974, \"Kigali City\", \"Rugunga\", \"Sat-Wed\", 36700000, 341498.00, \"Available\"],\n",
    "    [7, \"AC charger L2\", \"Kanombe SP\", \"Operational\", \"Kanombe Sector Office, Kigali, Rwanda\", -1.97884070, 30.13454313, \"Kigali City\", \"Kanombe\", \"Sat-Wed\", 28000000, 259825.00, \"Available\"],\n",
    "    [8, \"-\", \"Mantis Kivu Marina Bay Hotel\", \"Under-Construction\", \"-\", -2.47314131, 28.90089960, \"Western Province\", \"Kamembe (Rusizi)\", \"-\", \"-\", \"-\", \"-\"],\n",
    "    [9, \"-\", \"Kitabi Eco-Center\", \"Under-Construction\", \"-\", -2.47258750, 29.58003100, \"Southern Province\", \"Nyamagabe\", \"-\", \"-\", \"-\", \"-\"],\n",
    "    [10, \"-\", \"Cleo Lake Kivu Hotel\", \"Under-Construction\", \"-\", -2.06037760, 29.34860400, \"Western Province\", \"Kibuye (Karongi)\", \"-\", \"-\", \"-\", \"-\"],\n",
    "    [11, \"-\", \"Chinese Restaurant - Good to Back\", \"Under-Construction\", \"-\", -2.60534260, 29.74015470, \"Southern Province\", \"Butare (Huye)\", \"-\", \"-\", \"-\", \"-\"],\n",
    "    [12, \"AC socket L1\", \"Kigali Business Center\", \"Operational\", \"4P2R+9M8, Kigali, Rwanda\", -1.95111950, 30.09769300, \"Kigali City\", \"Kigali\", \"Mon-Sun\", 40000000, 370597.00, \"In-Use\"],\n",
    "    [13, \"AC charger L2\", \"Gikondo SP\", \"Operational\", \"Gikondo Sector, Kigali, Rwanda\", -1.98767591, 30.07073963, \"Kigali City\", \"Gikondo\", \"Sat-Wed\", 32000000, 296478.00, \"In-Use\"],\n",
    "    [14, \"AC charger L2\", \"Rulindo - Imbuto Foundation\", \"Operational\", \"6P7C+X2M, Rulindo, Rwanda\", -1.71194415, 29.83527677, \"Northern Province\", \"Rulindo\", \"Sat-Wed\", 15000000, 139736.00, \"Available\"],\n",
    "    [15, \"AC socket L1\", \"Nyundo SP\", \"Operational\", \"4Q9V+Q7C, Nyundo, Rwanda\", -1.65537940, 28.98323822, \"Western Province\", \"Nyundo (Rubavu)\", \"Sat-Wed\", 25500000, 236473.00, \"Available\"],\n",
    "    [16, \"DC Charger L3\", \"Nyarutarama\", \"Operational\", \"2H2V+F92, Nyarutarama, Kigali\", -1.97618162, 30.10364576, \"Kigali City\", \"Nyarutarama\", \"Mon-Sun\", 50000000, 463175.00, \"In-Use\"],\n",
    "    [17, \"AC charger L2\", \"Kigali Genocide Memorial\", \"Operational\", \"G2VQ+P47, Kigali, Rwanda\", -1.96643118, 30.06084267, \"Kigali City\", \"Kigali\", \"Sat-Wed\", 38000000, 352452.00, \"Available\"],\n",
    "    [18, \"-\", \"Kivu Green Hotel\", \"Under-Construction\", \"-\", -2.13267100, 29.31577400, \"Western Province\", \"Kibuye (Karongi)\", \"-\", \"-\", \"-\", \"-\"],\n",
    "    [19, \"AC socket L1\", \"Rubengera SP\", \"Operational\", \"5X7C+J4C, Rubengera, Rwanda\", -1.98420061, 29.36389640, \"Western Province\", \"Rubengera\", \"Mon-Sun\", 47000000, 434518.00, \"In-Use\"],\n",
    "    [20, \"DC Charger L3\", \"Kigali Convention Centre\", \"Operational\", \"G2VQ+X87, Kigali, Rwanda\", -1.95547332, 30.12042033, \"Kigali City\", \"Kigali\", \"Mon-Sun\", 60000000, 555861.00, \"In-Use\"],\n",
    "    [21, \"AC charger L2\", \"Muhanga Town Center\", \"Operational\", \"7P4V+FV5, Muhanga, Rwanda\", -2.08661734, 29.61265523, \"Southern Province\", \"Muhanga\", \"Sat-Wed\", 37000000, 342048.00, \"Available\"],\n",
    "    [22, \"AC charger L2\", \"Nyamata - Iwacu Hospital\", \"Operational\", \"4P5P+9R7, Nyamata, Rwanda\", -1.98460176, 30.37974356, \"Eastern Province\", \"Nyamata\", \"Sat-Wed\", 20500000, 189792.00, \"Available\"],\n",
    "    [23, \"AC socket L1\", \"Huye University\", \"Operational\", \"5X8C+CV4, Huye, Rwanda\", -2.59705793, 29.74949824, \"Southern Province\", \"Huye\", \"Mon-Sun\", 23000000, 212526.00, \"Available\"],\n",
    "    [24, \"-\", \"Bumbogo SP\", \"Under-Construction\", \"-\", -1.99754900, 30.19874100, \"Kigali City\", \"Bumbogo\", \"-\", \"-\", \"-\", \"-\"],\n",
    "    [25, \"-\", \"Nyundo Hotel\", \"Under-Construction\", \"-\", -1.65650387, 29.02121380, \"Western Province\", \"Nyundo\", \"-\", \"-\", \"-\", \"-\"],\n",
    "    [26, \"AC charger L2\", \"Rwamagana Town Hall\", \"Operational\", \"6M7V+7R6, Rwamagana, Rwanda\", -1.97678342, 30.45703662, \"Eastern Province\", \"Rwamagana\", \"Sat-Wed\", 29000000, 268479.00, \"Available\"],\n",
    "    [27, \"AC socket L1\", \"Gisagara Town Center\", \"Operational\", \"4H3P+R9V, Gisagara, Rwanda\", -2.08003278, 29.58967517, \"Southern Province\", \"Gisagara\", \"Sat-Wed\", 25000000, 232685.00, \"In-Use\"],\n",
    "    [28, \"DC Charger L3\", \"Rubavu Hotel\", \"Operational\", \"5X8C+J24, Rubavu, Rwanda\", -1.67562478, 29.30241073, \"Western Province\", \"Rubavu\", \"Sat-Wed\", 52000000, 484218.00, \"Available\"],\n",
    "    [29, \"-\", \"Karongi District Office\", \"Under-Construction\", \"-\", -2.08427948, 29.34792945, \"Western Province\", \"Karongi\", \"-\", \"-\", \"-\", \"-\"],\n",
    "    [30, \"AC charger L2\", \"Kibuye Business District\", \"Operational\", \"5P8P+H5P, Kibuye, Rwanda\", -2.09724154, 29.29664917, \"Western Province\", \"Kibuye\", \"Mon-Sun\", 40000000, 370597.00, \"Available\"],\n",
    "    [31, \"AC charger L2\", \"Rubavu Beach Resort\", \"Operational\", \"5Y8Q+4X9, Rubavu, Rwanda\", -1.66622879, 29.26287665, \"Western Province\", \"Rubavu\", \"Sat-Wed\", 35000000, 325528.00, \"In-Use\"],\n",
    "    [32, \"-\", \"Musanze City Center\", \"Under-Construction\", \"-\", -1.68952656, 29.59349623, \"Northern Province\", \"Musanze\", \"-\", \"-\", \"-\", \"-\"],\n",
    "    [33, \"AC charger L2\", \"Gitarama Town Hall\", \"Operational\", \"5P8X+J76, Gitarama, Rwanda\", -2.11891400, 29.89224000, \"Southern Province\", \"Gitarama\", \"Sat-Wed\", 22000000, 204948.00, \"Available\"],\n",
    "    [34, \"-\", \"Muhanga Business District\", \"Under-Construction\", \"-\", -2.07233556, 29.58283948, \"Southern Province\", \"Muhanga\", \"-\", \"-\", \"-\", \"-\"],\n",
    "    [35, \"AC socket L1\", \"Nyanza Town Center\", \"Operational\", \"5M9Q+R28, Nyanza, Rwanda\", -2.61682285, 29.77325541, \"Southern Province\", \"Nyanza\", \"Sat-Wed\", 28000000, 259825.00, \"In-Use\"],\n",
    "    [36, \"DC Charger L3\", \"Nyundo District Office\", \"Operational\", \"-\", -1.65398142, 29.06192672, \"Western Province\", \"Nyundo\", \"Mon-Sun\", 53000000, 490416.00, \"Available\"],\n",
    "    [37, \"-\", \"Gicumbi SP\", \"Under-Construction\", \"-\", -1.49740237, 29.71461998, \"Northern Province\", \"Gicumbi\", \"-\", \"-\", \"-\", \"-\"],\n",
    "    [38, \"AC charger L2\", \"Musanze - Hotel Gorilla\", \"Operational\", \"5Q8J+5G8, Musanze, Rwanda\", -1.70946500, 29.59348513, \"Northern Province\", \"Musanze\", \"Sat-Wed\", 48000000, 444268.00, \"Available\"],\n",
    "    [39, \"-\", \"Nyarugenge District Office\", \"Under-Construction\", \"-\", -1.94523123, 30.08378358, \"Kigali City\", \"Nyarugenge\", \"-\", \"-\", \"-\", \"-\"],\n",
    "    [40, \"AC charger L2\", \"Nyabihu District Office\", \"Operational\", \"5P7R+2M5, Nyabihu, Rwanda\", -1.61101750, 28.99219400, \"Western Province\", \"Nyabihu\", \"Mon-Sun\", 35000000, 325528.00, \"Available\"],\n",
    "    [41, \"AC socket L1\", \"Nyamagabe\", \"Operational\", \"5P7P+VR9, Nyamagabe, Rwanda\", -2.24301394, 29.57344560, \"Southern Province\", \"Nyamagabe\", \"Mon-Sun\", 27000000, 250136.00, \"In-Use\"],\n",
    "    [42, \"-\", \"Karongi - Lakeview Hotel\", \"Under-Construction\", \"-\", -2.10812900, 29.34317600, \"Western Province\", \"Karongi\", \"-\", \"-\", \"-\", \"-\"],\n",
    "    [43, \"AC charger L2\", \"Gisagara\", \"Operational\", \"5M8V+R9X, Gisagara, Rwanda\", -2.08510414, 29.63018994, \"Southern Province\", \"Gisagara\", \"Mon-Sun\", 29000000, 268479.00, \"Available\"],\n",
    "    [44, \"AC charger L2\", \"Kibuye - Lac Hotel\", \"Operational\", \"5P9M+V85, Kibuye, Rwanda\", -2.10795294, 29.30124293, \"Western Province\", \"Kibuye\", \"Sat-Wed\", 46000000, 425781.00, \"Available\"],\n",
    "    [45, \"AC charger L2\", \"Kigali Park Plaza\", \"Operational\", \"4P3R+M8V, Kigali, Rwanda\", -1.95738123, 30.11669534, \"Kigali City\", \"Kigali\", \"Mon-Sun\", 51000000, 472628.00, \"Available\"],\n",
    "    [46, \"AC socket L1\", \"Kibuye Business District\", \"Planned\", \"5P8P+H5P, Kibuye, Rwanda\", -2.09724154, 29.29664917, \"Western Province\", \"Kibuye\", \"-\", \"-\", \"-\", \"-\"],\n",
    "    [47, \"AC charger L2\", \"Kigali Digital Hub\", \"Planned\", \"-\", -1.94961170, 30.11947894, \"Kigali City\", \"Kigali\", \"-\", \"-\", \"-\", \"-\"],\n",
    "    [48, \"AC socket L1\", \"Kigali National Stadium\", \"Pending Site Visit\", \"-\", -1.98767694, 30.13929720, \"Kigali City\", \"Kigali\", \"-\", \"-\", \"-\", \"-\"],\n",
    "    [49, \"AC charger L2\", \"Rubavu SP Beach Resort\", \"Pending Site Visit\", \"4Q8V+6R7, Rubavu, Rwanda\", -1.67157200, 29.30514673, \"Western Province\", \"Rubavu\", \"-\", \"-\", \"-\", \"-\"],\n",
    "    [50, \"AC socket L1\", \"Chinese Restaurant - Good to Back\", \"Awaiting Contract\", \"-\", -2.60534260, 29.74015470, \"Southern Province\", \"Butare (Huye)\", \"-\", \"-\", \"-\", \"-\"],\n",
    "    [51, \"AC socket L1\", \"Kitabi Eco-Center\", \"Awaiting Contract\", \"-\", -2.47258750, 29.58003100, \"Southern Province\", \"Nyamagabe\", \"-\", \"-\", \"-\", \"-\"],\n",
    "    [52, \"AC socket L1\", \"Cleo Lake Kivu Hotel\", \"Awaiting Contract\", \"-\", -2.06037760, 29.34860400, \"Western Province\", \"Kibuye (Karongi)\", \"-\", \"-\", \"-\", \"-\"],\n",
    "    [53, \"AC socket L1\", \"Mantis Kivu Marina Bay Hotel\", \"Awaiting Contract\", \"-\", -2.47314131, 28.90089960, \"Western Province\", \"Kamembe (Rusizi)\", \"-\", \"-\", \"-\", \"-\"]\n",
    "]\n",
    "\n",
    "# Create DataFrame\n",
    "df = pd.DataFrame(data, columns=[\n",
    "    \"Charger ID\", \"Connector Type\", \"Connector Name\", \"Status\", \"Address\", \"Latitude\", \"Longitude\",\n",
    "    \"Province\", \"City/Suburb/Town\", \"Operational Times\", \"Sales Revenue (RWF)\", \"Sales Revenue (ZAR)\", \"Charger Availability\"\n",
    "])\n",
    "\n",
    "# Save to Excel\n",
    "file_name = \"Charging_Stations.xlsx\"\n",
    "df.to_excel(file_name, index=False)\n",
    "\n",
    "print(f\"Excel file saved as {file_name}\")\n"
   ]
  }
 ],
 "metadata": {
  "kernelspec": {
   "display_name": "Python 3",
   "language": "python",
   "name": "python3"
  },
  "language_info": {
   "codemirror_mode": {
    "name": "ipython",
    "version": 3
   },
   "file_extension": ".py",
   "mimetype": "text/x-python",
   "name": "python",
   "nbconvert_exporter": "python",
   "pygments_lexer": "ipython3",
   "version": "3.12.7"
  }
 },
 "nbformat": 4,
 "nbformat_minor": 2
}
